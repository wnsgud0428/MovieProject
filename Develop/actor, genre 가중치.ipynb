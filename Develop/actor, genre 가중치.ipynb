{
 "cells": [
  {
   "cell_type": "markdown",
   "metadata": {},
   "source": [
    "수익 기준"
   ]
  },
  {
   "cell_type": "code",
   "execution_count": 48,
   "metadata": {},
   "outputs": [],
   "source": [
    "import pandas as pd\n",
    "import seaborn as sns\n",
    "import matplotlib.pyplot as plt\n",
    "from sklearn.model_selection import train_test_split\n",
    "\n",
    "#from sklearn.preprocessing import StandardScaler"
   ]
  },
  {
   "cell_type": "code",
   "execution_count": 49,
   "metadata": {
    "scrolled": false
   },
   "outputs": [],
   "source": [
    "data = pd.read_csv('movie_rate.csv')"
   ]
  },
  {
   "cell_type": "code",
   "execution_count": 50,
   "metadata": {
    "scrolled": true
   },
   "outputs": [
    {
     "name": "stderr",
     "output_type": "stream",
     "text": [
      "C:\\Users\\LEE\\anaconda3\\lib\\site-packages\\IPython\\core\\interactiveshell.py:3063: DtypeWarning: Columns (10) have mixed types.Specify dtype option on import or set low_memory=False.\n",
      "  interactivity=interactivity, compiler=compiler, result=result)\n"
     ]
    }
   ],
   "source": [
    "data2 = pd.read_csv('movies_meta_data.csv')\n"
   ]
  },
  {
   "cell_type": "markdown",
   "metadata": {},
   "source": [
    "### delete unrelated columns & row"
   ]
  },
  {
   "cell_type": "code",
   "execution_count": 51,
   "metadata": {},
   "outputs": [],
   "source": [
    "data.drop(['Description', 'Success'], axis = 'columns', inplace = True)"
   ]
  },
  {
   "cell_type": "code",
   "execution_count": 52,
   "metadata": {},
   "outputs": [
    {
     "data": {
      "text/plain": [
       "(839, 31)"
      ]
     },
     "execution_count": 52,
     "metadata": {},
     "output_type": "execute_result"
    }
   ],
   "source": [
    "data.shape"
   ]
  },
  {
   "cell_type": "code",
   "execution_count": 53,
   "metadata": {},
   "outputs": [],
   "source": [
    "data = data.drop(data.index[838])"
   ]
  },
  {
   "cell_type": "markdown",
   "metadata": {},
   "source": [
    "### column sequence change"
   ]
  },
  {
   "cell_type": "code",
   "execution_count": 54,
   "metadata": {},
   "outputs": [],
   "source": [
    "data = data[['Rank', 'Title', 'Genre', 'Director', 'Actors', 'Year', 'Runtime (Minutes)', 'Metascore', 'Action', 'Adventure', 'Aniimation', 'Biography', 'Comedy', 'Crime', 'Drama', 'Family', 'Fantasy', 'History', 'Horror', 'Music', 'Musical', 'Mystery', 'Romance', 'Sci-Fi', 'Sport', 'Thriller', 'War', 'Western', 'Revenue (Millions)']]"
   ]
  },
  {
   "cell_type": "code",
   "execution_count": 55,
   "metadata": {},
   "outputs": [],
   "source": [
    "x = data[data.columns[0:28]]\n",
    "y = data.iloc[:,-1]"
   ]
  },
  {
   "cell_type": "markdown",
   "metadata": {},
   "source": [
    "### define train data"
   ]
  },
  {
   "cell_type": "code",
   "execution_count": 56,
   "metadata": {},
   "outputs": [],
   "source": [
    "x_train,x_test,y_train,y_test=train_test_split(x,y,test_size=0.1,random_state=0)"
   ]
  },
  {
   "cell_type": "code",
   "execution_count": 57,
   "metadata": {
    "scrolled": true
   },
   "outputs": [],
   "source": [
    "train = pd.concat([x_train,y_train], axis=1)"
   ]
  },
  {
   "cell_type": "code",
   "execution_count": 58,
   "metadata": {
    "scrolled": false
   },
   "outputs": [
    {
     "data": {
      "text/html": [
       "<div>\n",
       "<style scoped>\n",
       "    .dataframe tbody tr th:only-of-type {\n",
       "        vertical-align: middle;\n",
       "    }\n",
       "\n",
       "    .dataframe tbody tr th {\n",
       "        vertical-align: top;\n",
       "    }\n",
       "\n",
       "    .dataframe thead th {\n",
       "        text-align: right;\n",
       "    }\n",
       "</style>\n",
       "<table border=\"1\" class=\"dataframe\">\n",
       "  <thead>\n",
       "    <tr style=\"text-align: right;\">\n",
       "      <th></th>\n",
       "      <th>Rank</th>\n",
       "      <th>Title</th>\n",
       "      <th>Genre</th>\n",
       "      <th>Director</th>\n",
       "      <th>Actors</th>\n",
       "      <th>Year</th>\n",
       "      <th>Runtime (Minutes)</th>\n",
       "      <th>Metascore</th>\n",
       "      <th>Action</th>\n",
       "      <th>Adventure</th>\n",
       "      <th>...</th>\n",
       "      <th>Music</th>\n",
       "      <th>Musical</th>\n",
       "      <th>Mystery</th>\n",
       "      <th>Romance</th>\n",
       "      <th>Sci-Fi</th>\n",
       "      <th>Sport</th>\n",
       "      <th>Thriller</th>\n",
       "      <th>War</th>\n",
       "      <th>Western</th>\n",
       "      <th>Revenue (Millions)</th>\n",
       "    </tr>\n",
       "  </thead>\n",
       "  <tbody>\n",
       "    <tr>\n",
       "      <th>511</th>\n",
       "      <td>589.0</td>\n",
       "      <td>Sunshine</td>\n",
       "      <td>Adventure,Sci-Fi,Thriller</td>\n",
       "      <td>Danny Boyle</td>\n",
       "      <td>Cillian Murphy, Rose Byrne, Chris Evans, Miche...</td>\n",
       "      <td>2007.0</td>\n",
       "      <td>107.0</td>\n",
       "      <td>64.0</td>\n",
       "      <td>0.0</td>\n",
       "      <td>1.0</td>\n",
       "      <td>...</td>\n",
       "      <td>0.0</td>\n",
       "      <td>0.0</td>\n",
       "      <td>0.0</td>\n",
       "      <td>0.0</td>\n",
       "      <td>1.0</td>\n",
       "      <td>0.0</td>\n",
       "      <td>1.0</td>\n",
       "      <td>0.0</td>\n",
       "      <td>0.0</td>\n",
       "      <td>3.68</td>\n",
       "    </tr>\n",
       "    <tr>\n",
       "      <th>834</th>\n",
       "      <td>995.0</td>\n",
       "      <td>Project X</td>\n",
       "      <td>Comedy</td>\n",
       "      <td>Nima Nourizadeh</td>\n",
       "      <td>Thomas Mann, Oliver Cooper, Jonathan Daniel Br...</td>\n",
       "      <td>2012.0</td>\n",
       "      <td>88.0</td>\n",
       "      <td>48.0</td>\n",
       "      <td>0.0</td>\n",
       "      <td>0.0</td>\n",
       "      <td>...</td>\n",
       "      <td>0.0</td>\n",
       "      <td>0.0</td>\n",
       "      <td>0.0</td>\n",
       "      <td>0.0</td>\n",
       "      <td>0.0</td>\n",
       "      <td>0.0</td>\n",
       "      <td>0.0</td>\n",
       "      <td>0.0</td>\n",
       "      <td>0.0</td>\n",
       "      <td>54.72</td>\n",
       "    </tr>\n",
       "    <tr>\n",
       "      <th>635</th>\n",
       "      <td>738.0</td>\n",
       "      <td>Body of Lies</td>\n",
       "      <td>Action,Drama,Romance</td>\n",
       "      <td>Ridley Scott</td>\n",
       "      <td>Leonardo DiCaprio, Russell Crowe, Mark Strong,...</td>\n",
       "      <td>2008.0</td>\n",
       "      <td>128.0</td>\n",
       "      <td>57.0</td>\n",
       "      <td>1.0</td>\n",
       "      <td>0.0</td>\n",
       "      <td>...</td>\n",
       "      <td>0.0</td>\n",
       "      <td>0.0</td>\n",
       "      <td>0.0</td>\n",
       "      <td>1.0</td>\n",
       "      <td>0.0</td>\n",
       "      <td>0.0</td>\n",
       "      <td>0.0</td>\n",
       "      <td>0.0</td>\n",
       "      <td>0.0</td>\n",
       "      <td>39.38</td>\n",
       "    </tr>\n",
       "    <tr>\n",
       "      <th>253</th>\n",
       "      <td>285.0</td>\n",
       "      <td>Hercules</td>\n",
       "      <td>Action,Adventure</td>\n",
       "      <td>Brett Ratner</td>\n",
       "      <td>Dwayne Johnson, John Hurt, Ian McShane, Joseph...</td>\n",
       "      <td>2014.0</td>\n",
       "      <td>98.0</td>\n",
       "      <td>47.0</td>\n",
       "      <td>1.0</td>\n",
       "      <td>1.0</td>\n",
       "      <td>...</td>\n",
       "      <td>0.0</td>\n",
       "      <td>0.0</td>\n",
       "      <td>0.0</td>\n",
       "      <td>0.0</td>\n",
       "      <td>0.0</td>\n",
       "      <td>0.0</td>\n",
       "      <td>0.0</td>\n",
       "      <td>0.0</td>\n",
       "      <td>0.0</td>\n",
       "      <td>72.66</td>\n",
       "    </tr>\n",
       "    <tr>\n",
       "      <th>757</th>\n",
       "      <td>889.0</td>\n",
       "      <td>Piranha 3D</td>\n",
       "      <td>Comedy,Horror,Thriller</td>\n",
       "      <td>Alexandre Aja</td>\n",
       "      <td>Elisabeth Shue, Jerry O'Connell, Richard Dreyf...</td>\n",
       "      <td>2010.0</td>\n",
       "      <td>88.0</td>\n",
       "      <td>53.0</td>\n",
       "      <td>0.0</td>\n",
       "      <td>0.0</td>\n",
       "      <td>...</td>\n",
       "      <td>0.0</td>\n",
       "      <td>0.0</td>\n",
       "      <td>0.0</td>\n",
       "      <td>0.0</td>\n",
       "      <td>0.0</td>\n",
       "      <td>0.0</td>\n",
       "      <td>1.0</td>\n",
       "      <td>0.0</td>\n",
       "      <td>0.0</td>\n",
       "      <td>25.00</td>\n",
       "    </tr>\n",
       "    <tr>\n",
       "      <th>...</th>\n",
       "      <td>...</td>\n",
       "      <td>...</td>\n",
       "      <td>...</td>\n",
       "      <td>...</td>\n",
       "      <td>...</td>\n",
       "      <td>...</td>\n",
       "      <td>...</td>\n",
       "      <td>...</td>\n",
       "      <td>...</td>\n",
       "      <td>...</td>\n",
       "      <td>...</td>\n",
       "      <td>...</td>\n",
       "      <td>...</td>\n",
       "      <td>...</td>\n",
       "      <td>...</td>\n",
       "      <td>...</td>\n",
       "      <td>...</td>\n",
       "      <td>...</td>\n",
       "      <td>...</td>\n",
       "      <td>...</td>\n",
       "      <td>...</td>\n",
       "    </tr>\n",
       "    <tr>\n",
       "      <th>763</th>\n",
       "      <td>899.0</td>\n",
       "      <td>The Ugly Truth</td>\n",
       "      <td>Comedy,Romance</td>\n",
       "      <td>Robert Luketic</td>\n",
       "      <td>Katherine Heigl, Gerard Butler, Bree Turner, E...</td>\n",
       "      <td>2009.0</td>\n",
       "      <td>96.0</td>\n",
       "      <td>28.0</td>\n",
       "      <td>0.0</td>\n",
       "      <td>0.0</td>\n",
       "      <td>...</td>\n",
       "      <td>0.0</td>\n",
       "      <td>0.0</td>\n",
       "      <td>0.0</td>\n",
       "      <td>1.0</td>\n",
       "      <td>0.0</td>\n",
       "      <td>0.0</td>\n",
       "      <td>0.0</td>\n",
       "      <td>0.0</td>\n",
       "      <td>0.0</td>\n",
       "      <td>88.92</td>\n",
       "    </tr>\n",
       "    <tr>\n",
       "      <th>192</th>\n",
       "      <td>220.0</td>\n",
       "      <td>Kick-Ass</td>\n",
       "      <td>Action,Comedy</td>\n",
       "      <td>Matthew Vaughn</td>\n",
       "      <td>Aaron Taylor-Johnson, Nicolas Cage, Chloë Grac...</td>\n",
       "      <td>2010.0</td>\n",
       "      <td>117.0</td>\n",
       "      <td>66.0</td>\n",
       "      <td>1.0</td>\n",
       "      <td>0.0</td>\n",
       "      <td>...</td>\n",
       "      <td>0.0</td>\n",
       "      <td>0.0</td>\n",
       "      <td>0.0</td>\n",
       "      <td>0.0</td>\n",
       "      <td>0.0</td>\n",
       "      <td>0.0</td>\n",
       "      <td>0.0</td>\n",
       "      <td>0.0</td>\n",
       "      <td>0.0</td>\n",
       "      <td>48.04</td>\n",
       "    </tr>\n",
       "    <tr>\n",
       "      <th>629</th>\n",
       "      <td>731.0</td>\n",
       "      <td>The Internship</td>\n",
       "      <td>Comedy</td>\n",
       "      <td>Shawn Levy</td>\n",
       "      <td>Vince Vaughn, Owen Wilson, Rose Byrne, Aasif M...</td>\n",
       "      <td>2013.0</td>\n",
       "      <td>119.0</td>\n",
       "      <td>42.0</td>\n",
       "      <td>0.0</td>\n",
       "      <td>0.0</td>\n",
       "      <td>...</td>\n",
       "      <td>0.0</td>\n",
       "      <td>0.0</td>\n",
       "      <td>0.0</td>\n",
       "      <td>0.0</td>\n",
       "      <td>0.0</td>\n",
       "      <td>0.0</td>\n",
       "      <td>0.0</td>\n",
       "      <td>0.0</td>\n",
       "      <td>0.0</td>\n",
       "      <td>44.67</td>\n",
       "    </tr>\n",
       "    <tr>\n",
       "      <th>559</th>\n",
       "      <td>650.0</td>\n",
       "      <td>Vampire Academy</td>\n",
       "      <td>Action,Comedy,Fantasy</td>\n",
       "      <td>Mark Waters</td>\n",
       "      <td>Zoey Deutch, Lucy Fry, Danila Kozlovsky, Gabri...</td>\n",
       "      <td>2014.0</td>\n",
       "      <td>104.0</td>\n",
       "      <td>30.0</td>\n",
       "      <td>1.0</td>\n",
       "      <td>0.0</td>\n",
       "      <td>...</td>\n",
       "      <td>0.0</td>\n",
       "      <td>0.0</td>\n",
       "      <td>0.0</td>\n",
       "      <td>0.0</td>\n",
       "      <td>0.0</td>\n",
       "      <td>0.0</td>\n",
       "      <td>0.0</td>\n",
       "      <td>0.0</td>\n",
       "      <td>0.0</td>\n",
       "      <td>7.79</td>\n",
       "    </tr>\n",
       "    <tr>\n",
       "      <th>684</th>\n",
       "      <td>802.0</td>\n",
       "      <td>Seven Psychopaths</td>\n",
       "      <td>Comedy,Crime</td>\n",
       "      <td>Martin McDonagh</td>\n",
       "      <td>Colin Farrell, Woody Harrelson, Sam Rockwell,C...</td>\n",
       "      <td>2012.0</td>\n",
       "      <td>110.0</td>\n",
       "      <td>66.0</td>\n",
       "      <td>0.0</td>\n",
       "      <td>0.0</td>\n",
       "      <td>...</td>\n",
       "      <td>0.0</td>\n",
       "      <td>0.0</td>\n",
       "      <td>0.0</td>\n",
       "      <td>0.0</td>\n",
       "      <td>0.0</td>\n",
       "      <td>0.0</td>\n",
       "      <td>0.0</td>\n",
       "      <td>0.0</td>\n",
       "      <td>0.0</td>\n",
       "      <td>14.99</td>\n",
       "    </tr>\n",
       "  </tbody>\n",
       "</table>\n",
       "<p>754 rows × 29 columns</p>\n",
       "</div>"
      ],
      "text/plain": [
       "      Rank              Title                      Genre         Director  \\\n",
       "511  589.0           Sunshine  Adventure,Sci-Fi,Thriller      Danny Boyle   \n",
       "834  995.0          Project X                     Comedy  Nima Nourizadeh   \n",
       "635  738.0       Body of Lies       Action,Drama,Romance     Ridley Scott   \n",
       "253  285.0           Hercules           Action,Adventure     Brett Ratner   \n",
       "757  889.0         Piranha 3D     Comedy,Horror,Thriller    Alexandre Aja   \n",
       "..     ...                ...                        ...              ...   \n",
       "763  899.0     The Ugly Truth             Comedy,Romance   Robert Luketic   \n",
       "192  220.0           Kick-Ass              Action,Comedy   Matthew Vaughn   \n",
       "629  731.0     The Internship                     Comedy       Shawn Levy   \n",
       "559  650.0    Vampire Academy      Action,Comedy,Fantasy      Mark Waters   \n",
       "684  802.0  Seven Psychopaths               Comedy,Crime  Martin McDonagh   \n",
       "\n",
       "                                                Actors    Year  \\\n",
       "511  Cillian Murphy, Rose Byrne, Chris Evans, Miche...  2007.0   \n",
       "834  Thomas Mann, Oliver Cooper, Jonathan Daniel Br...  2012.0   \n",
       "635  Leonardo DiCaprio, Russell Crowe, Mark Strong,...  2008.0   \n",
       "253  Dwayne Johnson, John Hurt, Ian McShane, Joseph...  2014.0   \n",
       "757  Elisabeth Shue, Jerry O'Connell, Richard Dreyf...  2010.0   \n",
       "..                                                 ...     ...   \n",
       "763  Katherine Heigl, Gerard Butler, Bree Turner, E...  2009.0   \n",
       "192  Aaron Taylor-Johnson, Nicolas Cage, Chloë Grac...  2010.0   \n",
       "629  Vince Vaughn, Owen Wilson, Rose Byrne, Aasif M...  2013.0   \n",
       "559  Zoey Deutch, Lucy Fry, Danila Kozlovsky, Gabri...  2014.0   \n",
       "684  Colin Farrell, Woody Harrelson, Sam Rockwell,C...  2012.0   \n",
       "\n",
       "     Runtime (Minutes)  Metascore  Action  Adventure  ...  Music  Musical  \\\n",
       "511              107.0       64.0     0.0        1.0  ...    0.0      0.0   \n",
       "834               88.0       48.0     0.0        0.0  ...    0.0      0.0   \n",
       "635              128.0       57.0     1.0        0.0  ...    0.0      0.0   \n",
       "253               98.0       47.0     1.0        1.0  ...    0.0      0.0   \n",
       "757               88.0       53.0     0.0        0.0  ...    0.0      0.0   \n",
       "..                 ...        ...     ...        ...  ...    ...      ...   \n",
       "763               96.0       28.0     0.0        0.0  ...    0.0      0.0   \n",
       "192              117.0       66.0     1.0        0.0  ...    0.0      0.0   \n",
       "629              119.0       42.0     0.0        0.0  ...    0.0      0.0   \n",
       "559              104.0       30.0     1.0        0.0  ...    0.0      0.0   \n",
       "684              110.0       66.0     0.0        0.0  ...    0.0      0.0   \n",
       "\n",
       "     Mystery  Romance  Sci-Fi  Sport  Thriller  War  Western  \\\n",
       "511      0.0      0.0     1.0    0.0       1.0  0.0      0.0   \n",
       "834      0.0      0.0     0.0    0.0       0.0  0.0      0.0   \n",
       "635      0.0      1.0     0.0    0.0       0.0  0.0      0.0   \n",
       "253      0.0      0.0     0.0    0.0       0.0  0.0      0.0   \n",
       "757      0.0      0.0     0.0    0.0       1.0  0.0      0.0   \n",
       "..       ...      ...     ...    ...       ...  ...      ...   \n",
       "763      0.0      1.0     0.0    0.0       0.0  0.0      0.0   \n",
       "192      0.0      0.0     0.0    0.0       0.0  0.0      0.0   \n",
       "629      0.0      0.0     0.0    0.0       0.0  0.0      0.0   \n",
       "559      0.0      0.0     0.0    0.0       0.0  0.0      0.0   \n",
       "684      0.0      0.0     0.0    0.0       0.0  0.0      0.0   \n",
       "\n",
       "     Revenue (Millions)  \n",
       "511                3.68  \n",
       "834               54.72  \n",
       "635               39.38  \n",
       "253               72.66  \n",
       "757               25.00  \n",
       "..                  ...  \n",
       "763               88.92  \n",
       "192               48.04  \n",
       "629               44.67  \n",
       "559                7.79  \n",
       "684               14.99  \n",
       "\n",
       "[754 rows x 29 columns]"
      ]
     },
     "execution_count": 58,
     "metadata": {},
     "output_type": "execute_result"
    }
   ],
   "source": [
    "train"
   ]
  },
  {
   "cell_type": "markdown",
   "metadata": {},
   "source": [
    "## Explore columns"
   ]
  },
  {
   "cell_type": "markdown",
   "metadata": {},
   "source": [
    "### Genre 별 revenue 구하기"
   ]
  },
  {
   "cell_type": "code",
   "execution_count": 61,
   "metadata": {
    "collapsed": true
   },
   "outputs": [
    {
     "data": {
      "text/plain": [
       "['Action',\n",
       " 'Adventure',\n",
       " 'Aniimation',\n",
       " 'Biography',\n",
       " 'Comedy',\n",
       " 'Crime',\n",
       " 'Drama',\n",
       " 'Family',\n",
       " 'Fantasy',\n",
       " 'History',\n",
       " 'Horror',\n",
       " 'Music',\n",
       " 'Musical',\n",
       " 'Mystery',\n",
       " 'Romance',\n",
       " 'Sci-Fi',\n",
       " 'Sport',\n",
       " 'Thriller',\n",
       " 'War',\n",
       " 'Western']"
      ]
     },
     "execution_count": 61,
     "metadata": {},
     "output_type": "execute_result"
    }
   ],
   "source": [
    "genre_list = ['Action', 'Adventure', 'Aniimation', 'Biography', 'Comedy', 'Crime', 'Drama', 'Family', 'Fantasy', 'History', 'Horror', 'Music', 'Musical', 'Mystery', 'Romance', 'Sci-Fi', 'Sport', 'Thriller', 'War', 'Western']\n",
    "genre_list"
   ]
  },
  {
   "cell_type": "code",
   "execution_count": 62,
   "metadata": {},
   "outputs": [
    {
     "data": {
      "text/plain": [
       "129.87448559670784"
      ]
     },
     "execution_count": 62,
     "metadata": {},
     "output_type": "execute_result"
    }
   ],
   "source": [
    "train.loc[train['Action'] == 1, 'Revenue (Millions)'].mean()"
   ]
  },
  {
   "cell_type": "code",
   "execution_count": 63,
   "metadata": {},
   "outputs": [],
   "source": [
    "genre_revenue = []\n",
    "for i in range(len(genre_list)):\n",
    "    genre_revenue.append(train.loc[train[genre_list[i]] == 1, 'Revenue (Millions)'].mean())"
   ]
  },
  {
   "cell_type": "code",
   "execution_count": 65,
   "metadata": {},
   "outputs": [],
   "source": [
    "genre_data = pd.DataFrame(genre_list,columns=['Genre'])\n",
    "genre_data['genre_revenue'] = genre_revenue"
   ]
  },
  {
   "cell_type": "code",
   "execution_count": 66,
   "metadata": {},
   "outputs": [
    {
     "data": {
      "text/html": [
       "<div>\n",
       "<style scoped>\n",
       "    .dataframe tbody tr th:only-of-type {\n",
       "        vertical-align: middle;\n",
       "    }\n",
       "\n",
       "    .dataframe tbody tr th {\n",
       "        vertical-align: top;\n",
       "    }\n",
       "\n",
       "    .dataframe thead th {\n",
       "        text-align: right;\n",
       "    }\n",
       "</style>\n",
       "<table border=\"1\" class=\"dataframe\">\n",
       "  <thead>\n",
       "    <tr style=\"text-align: right;\">\n",
       "      <th></th>\n",
       "      <th>genre_revenue</th>\n",
       "    </tr>\n",
       "  </thead>\n",
       "  <tbody>\n",
       "    <tr>\n",
       "      <th>count</th>\n",
       "      <td>20.000000</td>\n",
       "    </tr>\n",
       "    <tr>\n",
       "      <th>mean</th>\n",
       "      <td>87.888135</td>\n",
       "    </tr>\n",
       "    <tr>\n",
       "      <th>std</th>\n",
       "      <td>43.551650</td>\n",
       "    </tr>\n",
       "    <tr>\n",
       "      <th>min</th>\n",
       "      <td>37.859506</td>\n",
       "    </tr>\n",
       "    <tr>\n",
       "      <th>25%</th>\n",
       "      <td>58.247688</td>\n",
       "    </tr>\n",
       "    <tr>\n",
       "      <th>50%</th>\n",
       "      <td>67.386109</td>\n",
       "    </tr>\n",
       "    <tr>\n",
       "      <th>75%</th>\n",
       "      <td>127.156803</td>\n",
       "    </tr>\n",
       "    <tr>\n",
       "      <th>max</th>\n",
       "      <td>191.991951</td>\n",
       "    </tr>\n",
       "  </tbody>\n",
       "</table>\n",
       "</div>"
      ],
      "text/plain": [
       "       genre_revenue\n",
       "count      20.000000\n",
       "mean       87.888135\n",
       "std        43.551650\n",
       "min        37.859506\n",
       "25%        58.247688\n",
       "50%        67.386109\n",
       "75%       127.156803\n",
       "max       191.991951"
      ]
     },
     "execution_count": 66,
     "metadata": {},
     "output_type": "execute_result"
    }
   ],
   "source": [
    "genre_data.describe()"
   ]
  },
  {
   "cell_type": "code",
   "execution_count": 67,
   "metadata": {},
   "outputs": [],
   "source": [
    "genre_weight_list = []\n",
    "for i in range(len(genre_data)):\n",
    "    if genre_data['genre_revenue'][i] < 58.247688:\n",
    "        genre_weight_list.append('poor')\n",
    "    elif 58.247688 <= genre_data['genre_revenue'][i] <= 67.386109:\n",
    "        genre_weight_list.append('soso')\n",
    "    elif 67.386109 < genre_data['genre_revenue'][i] <= 127.156803:\n",
    "        genre_weight_list.append('hit')\n",
    "    else:\n",
    "        genre_weight_list.append('super-hit')"
   ]
  },
  {
   "cell_type": "code",
   "execution_count": 68,
   "metadata": {},
   "outputs": [],
   "source": [
    "genre_data['genre_weight'] = genre_weight_list"
   ]
  },
  {
   "cell_type": "code",
   "execution_count": 69,
   "metadata": {
    "scrolled": false
   },
   "outputs": [
    {
     "data": {
      "text/html": [
       "<div>\n",
       "<style scoped>\n",
       "    .dataframe tbody tr th:only-of-type {\n",
       "        vertical-align: middle;\n",
       "    }\n",
       "\n",
       "    .dataframe tbody tr th {\n",
       "        vertical-align: top;\n",
       "    }\n",
       "\n",
       "    .dataframe thead th {\n",
       "        text-align: right;\n",
       "    }\n",
       "</style>\n",
       "<table border=\"1\" class=\"dataframe\">\n",
       "  <thead>\n",
       "    <tr style=\"text-align: right;\">\n",
       "      <th></th>\n",
       "      <th>Genre</th>\n",
       "      <th>genre_revenue</th>\n",
       "      <th>genre_weight</th>\n",
       "    </tr>\n",
       "  </thead>\n",
       "  <tbody>\n",
       "    <tr>\n",
       "      <th>0</th>\n",
       "      <td>Action</td>\n",
       "      <td>129.874486</td>\n",
       "      <td>super-hit</td>\n",
       "    </tr>\n",
       "    <tr>\n",
       "      <th>1</th>\n",
       "      <td>Adventure</td>\n",
       "      <td>157.932258</td>\n",
       "      <td>super-hit</td>\n",
       "    </tr>\n",
       "    <tr>\n",
       "      <th>2</th>\n",
       "      <td>Aniimation</td>\n",
       "      <td>191.991951</td>\n",
       "      <td>super-hit</td>\n",
       "    </tr>\n",
       "    <tr>\n",
       "      <th>3</th>\n",
       "      <td>Biography</td>\n",
       "      <td>58.595000</td>\n",
       "      <td>soso</td>\n",
       "    </tr>\n",
       "    <tr>\n",
       "      <th>4</th>\n",
       "      <td>Comedy</td>\n",
       "      <td>77.167091</td>\n",
       "      <td>hit</td>\n",
       "    </tr>\n",
       "    <tr>\n",
       "      <th>5</th>\n",
       "      <td>Crime</td>\n",
       "      <td>64.005856</td>\n",
       "      <td>soso</td>\n",
       "    </tr>\n",
       "    <tr>\n",
       "      <th>6</th>\n",
       "      <td>Drama</td>\n",
       "      <td>49.202612</td>\n",
       "      <td>poor</td>\n",
       "    </tr>\n",
       "    <tr>\n",
       "      <th>7</th>\n",
       "      <td>Family</td>\n",
       "      <td>126.250909</td>\n",
       "      <td>hit</td>\n",
       "    </tr>\n",
       "    <tr>\n",
       "      <th>8</th>\n",
       "      <td>Fantasy</td>\n",
       "      <td>135.362771</td>\n",
       "      <td>super-hit</td>\n",
       "    </tr>\n",
       "    <tr>\n",
       "      <th>9</th>\n",
       "      <td>History</td>\n",
       "      <td>52.958000</td>\n",
       "      <td>poor</td>\n",
       "    </tr>\n",
       "    <tr>\n",
       "      <th>10</th>\n",
       "      <td>Horror</td>\n",
       "      <td>37.859506</td>\n",
       "      <td>poor</td>\n",
       "    </tr>\n",
       "    <tr>\n",
       "      <th>11</th>\n",
       "      <td>Music</td>\n",
       "      <td>58.876667</td>\n",
       "      <td>soso</td>\n",
       "    </tr>\n",
       "    <tr>\n",
       "      <th>12</th>\n",
       "      <td>Musical</td>\n",
       "      <td>81.642000</td>\n",
       "      <td>hit</td>\n",
       "    </tr>\n",
       "    <tr>\n",
       "      <th>13</th>\n",
       "      <td>Mystery</td>\n",
       "      <td>57.205753</td>\n",
       "      <td>poor</td>\n",
       "    </tr>\n",
       "    <tr>\n",
       "      <th>14</th>\n",
       "      <td>Romance</td>\n",
       "      <td>43.440180</td>\n",
       "      <td>poor</td>\n",
       "    </tr>\n",
       "    <tr>\n",
       "      <th>15</th>\n",
       "      <td>Sci-Fi</td>\n",
       "      <td>138.841158</td>\n",
       "      <td>super-hit</td>\n",
       "    </tr>\n",
       "    <tr>\n",
       "      <th>16</th>\n",
       "      <td>Sport</td>\n",
       "      <td>65.082143</td>\n",
       "      <td>soso</td>\n",
       "    </tr>\n",
       "    <tr>\n",
       "      <th>17</th>\n",
       "      <td>Thriller</td>\n",
       "      <td>69.690075</td>\n",
       "      <td>hit</td>\n",
       "    </tr>\n",
       "    <tr>\n",
       "      <th>18</th>\n",
       "      <td>War</td>\n",
       "      <td>62.184286</td>\n",
       "      <td>soso</td>\n",
       "    </tr>\n",
       "    <tr>\n",
       "      <th>19</th>\n",
       "      <td>Western</td>\n",
       "      <td>99.600000</td>\n",
       "      <td>hit</td>\n",
       "    </tr>\n",
       "  </tbody>\n",
       "</table>\n",
       "</div>"
      ],
      "text/plain": [
       "         Genre  genre_revenue genre_weight\n",
       "0       Action     129.874486    super-hit\n",
       "1    Adventure     157.932258    super-hit\n",
       "2   Aniimation     191.991951    super-hit\n",
       "3    Biography      58.595000         soso\n",
       "4       Comedy      77.167091          hit\n",
       "5        Crime      64.005856         soso\n",
       "6        Drama      49.202612         poor\n",
       "7       Family     126.250909          hit\n",
       "8      Fantasy     135.362771    super-hit\n",
       "9      History      52.958000         poor\n",
       "10      Horror      37.859506         poor\n",
       "11       Music      58.876667         soso\n",
       "12     Musical      81.642000          hit\n",
       "13     Mystery      57.205753         poor\n",
       "14     Romance      43.440180         poor\n",
       "15      Sci-Fi     138.841158    super-hit\n",
       "16       Sport      65.082143         soso\n",
       "17    Thriller      69.690075          hit\n",
       "18         War      62.184286         soso\n",
       "19     Western      99.600000          hit"
      ]
     },
     "execution_count": 69,
     "metadata": {},
     "output_type": "execute_result"
    }
   ],
   "source": [
    "genre_data"
   ]
  },
  {
   "cell_type": "code",
   "execution_count": 70,
   "metadata": {},
   "outputs": [],
   "source": [
    "genre_data.drop(['genre_revenue'], axis = 1, inplace = True)"
   ]
  },
  {
   "cell_type": "code",
   "execution_count": 71,
   "metadata": {},
   "outputs": [],
   "source": [
    "genre_data.to_csv(\"genre.csv\", columns = ['Genre', 'genre_weight'])"
   ]
  },
  {
   "cell_type": "markdown",
   "metadata": {},
   "source": [
    "### actors list 추출"
   ]
  },
  {
   "cell_type": "code",
   "execution_count": 72,
   "metadata": {},
   "outputs": [],
   "source": [
    "a = train['Actors'].str.split(',')"
   ]
  },
  {
   "cell_type": "code",
   "execution_count": 73,
   "metadata": {},
   "outputs": [],
   "source": [
    "temp = []\n",
    "for i in range(len(train)):\n",
    "        for j in range(len(a.iloc[i])):\n",
    "            temp.append(a.iloc[i][j])\n"
   ]
  },
  {
   "cell_type": "code",
   "execution_count": 74,
   "metadata": {},
   "outputs": [],
   "source": [
    "actor = pd.DataFrame(temp)"
   ]
  },
  {
   "cell_type": "code",
   "execution_count": 75,
   "metadata": {},
   "outputs": [
    {
     "data": {
      "text/plain": [
       "(3015,)"
      ]
     },
     "execution_count": 75,
     "metadata": {},
     "output_type": "execute_result"
    }
   ],
   "source": [
    "actor[0].shape"
   ]
  },
  {
   "cell_type": "markdown",
   "metadata": {},
   "source": [
    "### actor별 revenue 구하기"
   ]
  },
  {
   "cell_type": "code",
   "execution_count": 76,
   "metadata": {},
   "outputs": [],
   "source": [
    "actor_list = actor[0].unique()"
   ]
  },
  {
   "cell_type": "code",
   "execution_count": 77,
   "metadata": {},
   "outputs": [
    {
     "data": {
      "text/plain": [
       "array(['Cillian Murphy', ' Rose Byrne', ' Chris Evans', ..., ' Lucy Fry',\n",
       "       ' Gabriel Byrne', 'Christopher Walken'], dtype=object)"
      ]
     },
     "execution_count": 77,
     "metadata": {},
     "output_type": "execute_result"
    }
   ],
   "source": [
    "actor_list"
   ]
  },
  {
   "cell_type": "code",
   "execution_count": 78,
   "metadata": {},
   "outputs": [],
   "source": [
    "actor_revenue = []\n",
    "for i in range(len(actor_list)):\n",
    "    actor_revenue.append(train.loc[train['Actors'].str.contains(actor_list[i]), 'Revenue (Millions)'].mean())"
   ]
  },
  {
   "cell_type": "code",
   "execution_count": 79,
   "metadata": {},
   "outputs": [],
   "source": [
    "actor_data = pd.DataFrame(actor_list,columns=['Actor'])\n",
    "actor_data['Actor_revenue'] = actor_revenue"
   ]
  },
  {
   "cell_type": "code",
   "execution_count": 80,
   "metadata": {
    "scrolled": true
   },
   "outputs": [
    {
     "data": {
      "text/html": [
       "<div>\n",
       "<style scoped>\n",
       "    .dataframe tbody tr th:only-of-type {\n",
       "        vertical-align: middle;\n",
       "    }\n",
       "\n",
       "    .dataframe tbody tr th {\n",
       "        vertical-align: top;\n",
       "    }\n",
       "\n",
       "    .dataframe thead th {\n",
       "        text-align: right;\n",
       "    }\n",
       "</style>\n",
       "<table border=\"1\" class=\"dataframe\">\n",
       "  <thead>\n",
       "    <tr style=\"text-align: right;\">\n",
       "      <th></th>\n",
       "      <th>Actor</th>\n",
       "      <th>Actor_revenue</th>\n",
       "    </tr>\n",
       "  </thead>\n",
       "  <tbody>\n",
       "    <tr>\n",
       "      <th>0</th>\n",
       "      <td>Cillian Murphy</td>\n",
       "      <td>17.295000</td>\n",
       "    </tr>\n",
       "    <tr>\n",
       "      <th>1</th>\n",
       "      <td>Rose Byrne</td>\n",
       "      <td>78.015556</td>\n",
       "    </tr>\n",
       "    <tr>\n",
       "      <th>2</th>\n",
       "      <td>Chris Evans</td>\n",
       "      <td>274.985000</td>\n",
       "    </tr>\n",
       "    <tr>\n",
       "      <th>3</th>\n",
       "      <td>Michelle Yeoh</td>\n",
       "      <td>52.930000</td>\n",
       "    </tr>\n",
       "    <tr>\n",
       "      <th>4</th>\n",
       "      <td>Thomas Mann</td>\n",
       "      <td>30.730000</td>\n",
       "    </tr>\n",
       "    <tr>\n",
       "      <th>...</th>\n",
       "      <td>...</td>\n",
       "      <td>...</td>\n",
       "    </tr>\n",
       "    <tr>\n",
       "      <th>1842</th>\n",
       "      <td>Garrett M. Brown</td>\n",
       "      <td>48.040000</td>\n",
       "    </tr>\n",
       "    <tr>\n",
       "      <th>1843</th>\n",
       "      <td>Aasif Mandvi</td>\n",
       "      <td>44.670000</td>\n",
       "    </tr>\n",
       "    <tr>\n",
       "      <th>1844</th>\n",
       "      <td>Lucy Fry</td>\n",
       "      <td>7.790000</td>\n",
       "    </tr>\n",
       "    <tr>\n",
       "      <th>1845</th>\n",
       "      <td>Gabriel Byrne</td>\n",
       "      <td>7.790000</td>\n",
       "    </tr>\n",
       "    <tr>\n",
       "      <th>1846</th>\n",
       "      <td>Christopher Walken</td>\n",
       "      <td>14.990000</td>\n",
       "    </tr>\n",
       "  </tbody>\n",
       "</table>\n",
       "<p>1847 rows × 2 columns</p>\n",
       "</div>"
      ],
      "text/plain": [
       "                   Actor  Actor_revenue\n",
       "0         Cillian Murphy      17.295000\n",
       "1             Rose Byrne      78.015556\n",
       "2            Chris Evans     274.985000\n",
       "3          Michelle Yeoh      52.930000\n",
       "4            Thomas Mann      30.730000\n",
       "...                  ...            ...\n",
       "1842    Garrett M. Brown      48.040000\n",
       "1843        Aasif Mandvi      44.670000\n",
       "1844            Lucy Fry       7.790000\n",
       "1845       Gabriel Byrne       7.790000\n",
       "1846  Christopher Walken      14.990000\n",
       "\n",
       "[1847 rows x 2 columns]"
      ]
     },
     "execution_count": 80,
     "metadata": {},
     "output_type": "execute_result"
    }
   ],
   "source": [
    "actor_data"
   ]
  },
  {
   "cell_type": "code",
   "execution_count": 81,
   "metadata": {
    "scrolled": false
   },
   "outputs": [
    {
     "data": {
      "text/plain": [
       "count    1847.000000\n",
       "mean       73.670057\n",
       "std        84.015467\n",
       "min         0.000000\n",
       "25%        14.260000\n",
       "50%        51.478000\n",
       "75%        99.833333\n",
       "max       936.630000\n",
       "Name: Actor_revenue, dtype: float64"
      ]
     },
     "execution_count": 81,
     "metadata": {},
     "output_type": "execute_result"
    }
   ],
   "source": [
    "actor_data['Actor_revenue'].describe()"
   ]
  },
  {
   "cell_type": "code",
   "execution_count": 82,
   "metadata": {},
   "outputs": [],
   "source": [
    "weight_list = []\n",
    "for i in range(len(actor_data)):\n",
    "    if actor_data['Actor_revenue'][i] < 14.26:\n",
    "        weight_list.append('poor')\n",
    "    elif 14.26 <= actor_data['Actor_revenue'][i] <= 51.478:\n",
    "        weight_list.append('soso')\n",
    "    elif 51.478 < actor_data['Actor_revenue'][i] <= 99:\n",
    "        weight_list.append('hit')\n",
    "    else:\n",
    "        weight_list.append('super-hit')\n"
   ]
  },
  {
   "cell_type": "code",
   "execution_count": 83,
   "metadata": {},
   "outputs": [],
   "source": [
    "actor_data['Actor_weight'] = weight_list"
   ]
  },
  {
   "cell_type": "code",
   "execution_count": 84,
   "metadata": {
    "scrolled": true
   },
   "outputs": [
    {
     "data": {
      "text/html": [
       "<div>\n",
       "<style scoped>\n",
       "    .dataframe tbody tr th:only-of-type {\n",
       "        vertical-align: middle;\n",
       "    }\n",
       "\n",
       "    .dataframe tbody tr th {\n",
       "        vertical-align: top;\n",
       "    }\n",
       "\n",
       "    .dataframe thead th {\n",
       "        text-align: right;\n",
       "    }\n",
       "</style>\n",
       "<table border=\"1\" class=\"dataframe\">\n",
       "  <thead>\n",
       "    <tr style=\"text-align: right;\">\n",
       "      <th></th>\n",
       "      <th>Actor</th>\n",
       "      <th>Actor_revenue</th>\n",
       "      <th>Actor_weight</th>\n",
       "    </tr>\n",
       "  </thead>\n",
       "  <tbody>\n",
       "    <tr>\n",
       "      <th>0</th>\n",
       "      <td>Cillian Murphy</td>\n",
       "      <td>17.295000</td>\n",
       "      <td>soso</td>\n",
       "    </tr>\n",
       "    <tr>\n",
       "      <th>1</th>\n",
       "      <td>Rose Byrne</td>\n",
       "      <td>78.015556</td>\n",
       "      <td>hit</td>\n",
       "    </tr>\n",
       "    <tr>\n",
       "      <th>2</th>\n",
       "      <td>Chris Evans</td>\n",
       "      <td>274.985000</td>\n",
       "      <td>super-hit</td>\n",
       "    </tr>\n",
       "    <tr>\n",
       "      <th>3</th>\n",
       "      <td>Michelle Yeoh</td>\n",
       "      <td>52.930000</td>\n",
       "      <td>hit</td>\n",
       "    </tr>\n",
       "    <tr>\n",
       "      <th>4</th>\n",
       "      <td>Thomas Mann</td>\n",
       "      <td>30.730000</td>\n",
       "      <td>soso</td>\n",
       "    </tr>\n",
       "    <tr>\n",
       "      <th>...</th>\n",
       "      <td>...</td>\n",
       "      <td>...</td>\n",
       "      <td>...</td>\n",
       "    </tr>\n",
       "    <tr>\n",
       "      <th>1842</th>\n",
       "      <td>Garrett M. Brown</td>\n",
       "      <td>48.040000</td>\n",
       "      <td>soso</td>\n",
       "    </tr>\n",
       "    <tr>\n",
       "      <th>1843</th>\n",
       "      <td>Aasif Mandvi</td>\n",
       "      <td>44.670000</td>\n",
       "      <td>soso</td>\n",
       "    </tr>\n",
       "    <tr>\n",
       "      <th>1844</th>\n",
       "      <td>Lucy Fry</td>\n",
       "      <td>7.790000</td>\n",
       "      <td>poor</td>\n",
       "    </tr>\n",
       "    <tr>\n",
       "      <th>1845</th>\n",
       "      <td>Gabriel Byrne</td>\n",
       "      <td>7.790000</td>\n",
       "      <td>poor</td>\n",
       "    </tr>\n",
       "    <tr>\n",
       "      <th>1846</th>\n",
       "      <td>Christopher Walken</td>\n",
       "      <td>14.990000</td>\n",
       "      <td>soso</td>\n",
       "    </tr>\n",
       "  </tbody>\n",
       "</table>\n",
       "<p>1847 rows × 3 columns</p>\n",
       "</div>"
      ],
      "text/plain": [
       "                   Actor  Actor_revenue Actor_weight\n",
       "0         Cillian Murphy      17.295000         soso\n",
       "1             Rose Byrne      78.015556          hit\n",
       "2            Chris Evans     274.985000    super-hit\n",
       "3          Michelle Yeoh      52.930000          hit\n",
       "4            Thomas Mann      30.730000         soso\n",
       "...                  ...            ...          ...\n",
       "1842    Garrett M. Brown      48.040000         soso\n",
       "1843        Aasif Mandvi      44.670000         soso\n",
       "1844            Lucy Fry       7.790000         poor\n",
       "1845       Gabriel Byrne       7.790000         poor\n",
       "1846  Christopher Walken      14.990000         soso\n",
       "\n",
       "[1847 rows x 3 columns]"
      ]
     },
     "execution_count": 84,
     "metadata": {},
     "output_type": "execute_result"
    }
   ],
   "source": [
    "actor_data"
   ]
  },
  {
   "cell_type": "code",
   "execution_count": 85,
   "metadata": {},
   "outputs": [],
   "source": [
    "actor_data.drop(['Actor_revenue'], axis = 1, inplace = True)"
   ]
  },
  {
   "cell_type": "code",
   "execution_count": 86,
   "metadata": {},
   "outputs": [],
   "source": [
    "actor_data.to_csv(\"actor.csv\", columns = ['Actor', 'Actor_weight'])"
   ]
  },
  {
   "cell_type": "markdown",
   "metadata": {},
   "source": [
    "배우 입력 받고 -> random forest 한거에 가중치줘서 배우에 따른 플러스"
   ]
  },
  {
   "cell_type": "markdown",
   "metadata": {},
   "source": [
    "### actor predictor"
   ]
  },
  {
   "cell_type": "code",
   "execution_count": 36,
   "metadata": {},
   "outputs": [],
   "source": [
    "b = x_test['Actors'].str.split(',')"
   ]
  },
  {
   "cell_type": "code",
   "execution_count": 43,
   "metadata": {},
   "outputs": [
    {
     "data": {
      "text/plain": [
       "['Daniel Craig', ' Eva Green', ' Judi Dench', ' Jeffrey Wright']"
      ]
     },
     "execution_count": 43,
     "metadata": {},
     "output_type": "execute_result"
    }
   ],
   "source": [
    "b.iloc[1]"
   ]
  },
  {
   "cell_type": "code",
   "execution_count": 37,
   "metadata": {},
   "outputs": [],
   "source": [
    "input_actor = b.iloc[1]"
   ]
  },
  {
   "cell_type": "code",
   "execution_count": 38,
   "metadata": {},
   "outputs": [
    {
     "data": {
      "text/plain": [
       "['Daniel Craig', ' Eva Green', ' Judi Dench', ' Jeffrey Wright']"
      ]
     },
     "execution_count": 38,
     "metadata": {},
     "output_type": "execute_result"
    }
   ],
   "source": [
    "input_actor"
   ]
  },
  {
   "cell_type": "code",
   "execution_count": 39,
   "metadata": {
    "scrolled": true
   },
   "outputs": [
    {
     "data": {
      "text/plain": [
       "98.98958333333333"
      ]
     },
     "execution_count": 39,
     "metadata": {},
     "output_type": "execute_result"
    }
   ],
   "source": [
    "total = 0\n",
    "for i in range(len(input_actor)):\n",
    "    total += actor_data.loc[actor_data['Actor'] == input_actor[i], 'Actor_revenue'].iloc[0]\n",
    "total /= len(input_actor)\n",
    "total"
   ]
  },
  {
   "cell_type": "code",
   "execution_count": 40,
   "metadata": {},
   "outputs": [],
   "source": [
    "def actor_predictor(total, predictions):\n",
    "        if total < 14.26:\n",
    "            predictions *= 0.8\n",
    "        elif 14.26 <= total <= 51.478:\n",
    "            predictions *= 0.9\n",
    "        elif 51.478 < total <= 99:\n",
    "            predictions *= 1.1\n",
    "        else:\n",
    "            predictions *= 1.2\n",
    "        return predictions"
   ]
  }
 ],
 "metadata": {
  "kernelspec": {
   "display_name": "Python 3",
   "language": "python",
   "name": "python3"
  },
  "language_info": {
   "codemirror_mode": {
    "name": "ipython",
    "version": 3
   },
   "file_extension": ".py",
   "mimetype": "text/x-python",
   "name": "python",
   "nbconvert_exporter": "python",
   "pygments_lexer": "ipython3",
   "version": "3.7.6"
  }
 },
 "nbformat": 4,
 "nbformat_minor": 4
}
